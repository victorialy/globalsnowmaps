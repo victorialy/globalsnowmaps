{
 "cells": [
  {
   "cell_type": "markdown",
   "metadata": {},
   "source": [
    "# Snow Sensor Usability Masks\n",
    "First look at classified areas for Passive Microwave Sensor Usability for observing snow properties.\n",
    "Here, we compare input constraint layers and classified images. \n",
    "\n",
    "**Victoria Ly** (University of Washington) | vily@uw.edu\n",
    "\n",
    "***\n",
    "#### Google Earth Engine: \n",
    "- [Google Earth Engine NDSI Masks](https://code.earthengine.google.com/1c8fdf62b558feed5bb84c683dd30f05)\n",
    "- [Google Earth Engine Classification Masks](https://code.earthengine.google.com/?scriptPath=users%2Fvictorialy%2FGlobalSnowMasks%3AClassify-PM)"
   ]
  },
  {
   "cell_type": "markdown",
   "metadata": {},
   "source": [
    "### Set up Google Earth Engine API"
   ]
  },
  {
   "cell_type": "code",
   "execution_count": 1,
   "metadata": {},
   "outputs": [],
   "source": [
    "# Import libraries.\n",
    "import ee\n",
    "\n",
    "from IPython.display import Image\n",
    "import matplotlib.pyplot as plt\n",
    "import rasterio\n",
    "import xarray as xr\n",
    "import numpy as np"
   ]
  },
  {
   "cell_type": "code",
   "execution_count": 2,
   "metadata": {},
   "outputs": [
    {
     "data": {
      "text/html": [
       "<p>To authorize access needed by Earth Engine, open the following\n",
       "        URL in a web browser and follow the instructions:</p>\n",
       "        <p><a href=https://accounts.google.com/o/oauth2/auth?client_id=517222506229-vsmmajv00ul0bs7p89v5m89qs8eb9359.apps.googleusercontent.com&scope=https%3A%2F%2Fwww.googleapis.com%2Fauth%2Fearthengine+https%3A%2F%2Fwww.googleapis.com%2Fauth%2Fdevstorage.full_control&redirect_uri=urn%3Aietf%3Awg%3Aoauth%3A2.0%3Aoob&response_type=code>https://accounts.google.com/o/oauth2/auth?client_id=517222506229-vsmmajv00ul0bs7p89v5m89qs8eb9359.apps.googleusercontent.com&scope=https%3A%2F%2Fwww.googleapis.com%2Fauth%2Fearthengine+https%3A%2F%2Fwww.googleapis.com%2Fauth%2Fdevstorage.full_control&redirect_uri=urn%3Aietf%3Awg%3Aoauth%3A2.0%3Aoob&response_type=code</a></p>\n",
       "        <p>The authorization workflow will generate a code, which you\n",
       "        should paste in the box below</p>\n",
       "        "
      ],
      "text/plain": [
       "<IPython.core.display.HTML object>"
      ]
     },
     "metadata": {},
     "output_type": "display_data"
    },
    {
     "name": "stdout",
     "output_type": "stream",
     "text": [
      "Enter verification code: 4/xAGjmKmWvoij1VQG0NF8PaJvrljwonTDrJkcjyg_1hfjEio-LkmzDZ0\n",
      "\n",
      "Successfully saved authorization token.\n"
     ]
    }
   ],
   "source": [
    "# Trigger the authentication flow.\n",
    "ee.Authenticate()\n",
    "\n",
    "# Initialize the library.\n",
    "ee.Initialize()"
   ]
  },
  {
   "cell_type": "markdown",
   "metadata": {},
   "source": [
    "### PM sensor Classifications\n",
    "Previously, I classified areas where Passive Microwave would expect to work. Given the following constraints:\n",
    "- LST < 0 degrees C\n",
    "- Tree Canopy Cover = 20-30%\n",
    "- SWE = 2-150mm"
   ]
  },
  {
   "cell_type": "code",
   "execution_count": 3,
   "metadata": {},
   "outputs": [],
   "source": [
    "# Import an exported asset \n",
    "img = ee.Image('users/victorialy/sensor_classif_month01')"
   ]
  },
  {
   "cell_type": "code",
   "execution_count": 4,
   "metadata": {},
   "outputs": [
    {
     "name": "stdout",
     "output_type": "stream",
     "text": [
      "{'type': 'Image', 'bands': [{'id': 'LST_avg', 'data_type': {'type': 'PixelType', 'precision': 'double'}, 'dimensions': [1604, 370], 'crs': 'EPSG:4326', 'crs_transform': [0.22457882102988036, 0, -180.11221446596406, 0, -0.22457882102988036, 81.29753321281669]}, {'id': 'TCC_avg', 'data_type': {'type': 'PixelType', 'precision': 'int', 'min': 0, 'max': 255}, 'dimensions': [1604, 370], 'crs': 'EPSG:4326', 'crs_transform': [0.22457882102988036, 0, -180.11221446596406, 0, -0.22457882102988036, 81.29753321281669]}, {'id': 'SWE_avg', 'data_type': {'type': 'PixelType', 'precision': 'float'}, 'dimensions': [1604, 370], 'crs': 'EPSG:4326', 'crs_transform': [0.22457882102988036, 0, -180.11221446596406, 0, -0.22457882102988036, 81.29753321281669]}, {'id': 'NDSI_max', 'data_type': {'type': 'PixelType', 'precision': 'int', 'min': 0, 'max': 255}, 'dimensions': [1604, 370], 'crs': 'EPSG:4326', 'crs_transform': [0.22457882102988036, 0, -180.11221446596406, 0, -0.22457882102988036, 81.29753321281669]}, {'id': 'Sensor_Classification', 'data_type': {'type': 'PixelType', 'precision': 'int', 'min': 0, 'max': 255}, 'dimensions': [1604, 370], 'crs': 'EPSG:4326', 'crs_transform': [0.22457882102988036, 0, -180.11221446596406, 0, -0.22457882102988036, 81.29753321281669]}], 'version': 1582832051071512, 'id': 'users/victorialy/sensor_classif_month01', 'properties': {'month': 1, 'system:footprint': {'type': 'LinearRing', 'coordinates': [[-180, -90], [180, -90], [180, 90], [-180, 90], [-180, -90]]}, 'system:asset_size': 1707981}}\n"
     ]
    }
   ],
   "source": [
    "print(img.getInfo())"
   ]
  },
  {
   "cell_type": "markdown",
   "metadata": {},
   "source": [
    "### Import Classified Image from GEE"
   ]
  },
  {
   "cell_type": "markdown",
   "metadata": {},
   "source": [
    "Previously, I classified areas where Passive Microwave would expect to work. Given the following constraints:\n",
    "- LST < 0 degrees C\n",
    "- Tree Canopy Cover = 20-30%\n",
    "- SWE = 2-150mm"
   ]
  },
  {
   "cell_type": "code",
   "execution_count": 5,
   "metadata": {},
   "outputs": [
    {
     "data": {
      "text/html": [
       "<img src=\"https://earthengine.googleapis.com/v1alpha/projects/earthengine-legacy/thumbnails/1f631f497a13ac558e49eef77c678430-7aea391f69b3c09bcb0d08dc921ee851:getPixels\"/>"
      ],
      "text/plain": [
       "<IPython.core.display.Image object>"
      ]
     },
     "execution_count": 5,
     "metadata": {},
     "output_type": "execute_result"
    }
   ],
   "source": [
    "# Import classified image, with all input bands, for the month of January \n",
    "img = ee.Image('users/victorialy/sensor_classif_month01')\n",
    "Image(url=img.getThumbUrl({'bands':['Sensor_Classification'], \n",
    "                           'min': 0, 'max': 2, 'palette': [\"c15433\",\"1d8e30\",\"dcd72b\"]}))"
   ]
  },
  {
   "cell_type": "code",
   "execution_count": 6,
   "metadata": {},
   "outputs": [
    {
     "data": {
      "text/html": [
       "<img src=\"https://earthengine.googleapis.com/v1alpha/projects/earthengine-legacy/thumbnails/91c39b60c1dea870cea1f1e3eba59f67-6051e60b54a856659b4bcd66574b0895:getPixels\"/>"
      ],
      "text/plain": [
       "<IPython.core.display.Image object>"
      ]
     },
     "execution_count": 6,
     "metadata": {},
     "output_type": "execute_result"
    }
   ],
   "source": [
    "# Plot tree canopy cover\n",
    "Image(url=img.getThumbUrl({'bands':['TCC_avg'], \n",
    "                           'min': 0, 'max': 100, 'palette': ['000000', 'afce56', '5f9c00', '0e6a00', '003800']}))"
   ]
  },
  {
   "cell_type": "code",
   "execution_count": 7,
   "metadata": {},
   "outputs": [
    {
     "data": {
      "text/html": [
       "<img src=\"https://earthengine.googleapis.com/v1alpha/projects/earthengine-legacy/thumbnails/763c7c7487fa7635a4cd653a46b838e5-34980f9992197c88e452e889d987e1ca:getPixels\"/>"
      ],
      "text/plain": [
       "<IPython.core.display.Image object>"
      ]
     },
     "execution_count": 7,
     "metadata": {},
     "output_type": "execute_result"
    }
   ],
   "source": [
    "# Plot SWE\n",
    "Image(url=img.getThumbUrl({'bands':['SWE_avg'], \n",
    "                           \"max\":200,\"palette\":[\"000000\",\"7ce8ed\",\"21edbe\",\"0c35ff\"]}))"
   ]
  },
  {
   "cell_type": "code",
   "execution_count": 8,
   "metadata": {},
   "outputs": [
    {
     "data": {
      "text/html": [
       "<img src=\"https://earthengine.googleapis.com/v1alpha/projects/earthengine-legacy/thumbnails/586b5d3c6e7a0dd0577469812b06ef10-8764a3b40b188af583e3c4542880da69:getPixels\"/>"
      ],
      "text/plain": [
       "<IPython.core.display.Image object>"
      ]
     },
     "execution_count": 8,
     "metadata": {},
     "output_type": "execute_result"
    }
   ],
   "source": [
    "# Plot LST\n",
    "Image(url=img.getThumbUrl({'bands':['LST_avg'], \n",
    "                           \"min\":-8,\"max\":0,\"palette\":[\"4286f4\",\"000b5e\",\"96048f\"]}))"
   ]
  },
  {
   "cell_type": "code",
   "execution_count": 10,
   "metadata": {},
   "outputs": [
    {
     "name": "stdout",
     "output_type": "stream",
     "text": [
      "{'type': 'Image', 'bands': [{'id': 'LST_avg', 'data_type': {'type': 'PixelType', 'precision': 'double'}, 'dimensions': [1604, 370], 'crs': 'EPSG:4326', 'crs_transform': [0.22457882102988036, 0, -180.11221446596406, 0, -0.22457882102988036, 81.29753321281669]}, {'id': 'TCC_avg', 'data_type': {'type': 'PixelType', 'precision': 'int', 'min': 0, 'max': 255}, 'dimensions': [1604, 370], 'crs': 'EPSG:4326', 'crs_transform': [0.22457882102988036, 0, -180.11221446596406, 0, -0.22457882102988036, 81.29753321281669]}, {'id': 'SWE_avg', 'data_type': {'type': 'PixelType', 'precision': 'float'}, 'dimensions': [1604, 370], 'crs': 'EPSG:4326', 'crs_transform': [0.22457882102988036, 0, -180.11221446596406, 0, -0.22457882102988036, 81.29753321281669]}, {'id': 'NDSI_max', 'data_type': {'type': 'PixelType', 'precision': 'int', 'min': 0, 'max': 255}, 'dimensions': [1604, 370], 'crs': 'EPSG:4326', 'crs_transform': [0.22457882102988036, 0, -180.11221446596406, 0, -0.22457882102988036, 81.29753321281669]}, {'id': 'Sensor_Classification', 'data_type': {'type': 'PixelType', 'precision': 'int', 'min': 0, 'max': 255}, 'dimensions': [1604, 370], 'crs': 'EPSG:4326', 'crs_transform': [0.22457882102988036, 0, -180.11221446596406, 0, -0.22457882102988036, 81.29753321281669]}, {'id': 'longitude', 'data_type': {'type': 'PixelType', 'precision': 'double'}, 'crs': 'EPSG:4326', 'crs_transform': [1, 0, 0, 0, 1, 0]}, {'id': 'latitude', 'data_type': {'type': 'PixelType', 'precision': 'double'}, 'crs': 'EPSG:4326', 'crs_transform': [1, 0, 0, 0, 1, 0]}], 'version': 1582832051071512, 'id': 'users/victorialy/sensor_classif_month01', 'properties': {'month': 1, 'system:footprint': {'type': 'LinearRing', 'coordinates': [[-180, -90], [180, -90], [180, 90], [-180, 90], [-180, -90]]}, 'system:asset_size': 1707981}}\n"
     ]
    }
   ],
   "source": [
    "# Add lat long for reference\n",
    "imgll = img.addBands(ee.Image.pixelLonLat())\n",
    "print(imgll.getInfo())"
   ]
  }
 ],
 "metadata": {
  "kernelspec": {
   "display_name": "Python 3",
   "language": "python",
   "name": "python3"
  },
  "language_info": {
   "codemirror_mode": {
    "name": "ipython",
    "version": 3
   },
   "file_extension": ".py",
   "mimetype": "text/x-python",
   "name": "python",
   "nbconvert_exporter": "python",
   "pygments_lexer": "ipython3",
   "version": "3.6.4"
  }
 },
 "nbformat": 4,
 "nbformat_minor": 2
}
