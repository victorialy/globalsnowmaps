{
 "cells": [
  {
   "cell_type": "markdown",
   "metadata": {},
   "source": [
    "# Snow Sensor Usability Masks\n",
    "First look at classified areas for Passive Microwave Sensor Usability for observing snow properties.\n",
    "Here, we compare input constraint layers and classified images. \n",
    "\n",
    "**Victoria Ly** (University of Washington) | vily@uw.edu\n",
    "\n",
    "***\n",
    "#### Google Earth Engine: \n",
    "- [Google Earth Engine NDSI Masks](https://code.earthengine.google.com/1c8fdf62b558feed5bb84c683dd30f05)\n",
    "- [Google Earth Engine Classification Masks](https://code.earthengine.google.com/?scriptPath=users%2Fvictorialy%2FGlobalSnowMasks%3AClassify-PM)"
   ]
  },
  {
   "cell_type": "markdown",
   "metadata": {},
   "source": [
    "### Set up Google Earth Engine API"
   ]
  },
  {
   "cell_type": "code",
   "execution_count": 1,
   "metadata": {},
   "outputs": [],
   "source": [
    "# Import libraries.\n",
    "import ee\n",
    "\n",
    "from IPython.display import Image\n",
    "import matplotlib.pyplot as plt\n",
    "import rasterio\n",
    "import xarray as xr\n",
    "import numpy as np"
   ]
  },
  {
   "cell_type": "code",
   "execution_count": 2,
   "metadata": {},
   "outputs": [
    {
     "data": {
      "text/html": [
       "<p>To authorize access needed by Earth Engine, open the following\n",
       "        URL in a web browser and follow the instructions:</p>\n",
       "        <p><a href=https://accounts.google.com/o/oauth2/auth?client_id=517222506229-vsmmajv00ul0bs7p89v5m89qs8eb9359.apps.googleusercontent.com&scope=https%3A%2F%2Fwww.googleapis.com%2Fauth%2Fearthengine+https%3A%2F%2Fwww.googleapis.com%2Fauth%2Fdevstorage.full_control&redirect_uri=urn%3Aietf%3Awg%3Aoauth%3A2.0%3Aoob&response_type=code>https://accounts.google.com/o/oauth2/auth?client_id=517222506229-vsmmajv00ul0bs7p89v5m89qs8eb9359.apps.googleusercontent.com&scope=https%3A%2F%2Fwww.googleapis.com%2Fauth%2Fearthengine+https%3A%2F%2Fwww.googleapis.com%2Fauth%2Fdevstorage.full_control&redirect_uri=urn%3Aietf%3Awg%3Aoauth%3A2.0%3Aoob&response_type=code</a></p>\n",
       "        <p>The authorization workflow will generate a code, which you\n",
       "        should paste in the box below</p>\n",
       "        "
      ],
      "text/plain": [
       "<IPython.core.display.HTML object>"
      ]
     },
     "metadata": {},
     "output_type": "display_data"
    },
    {
     "name": "stdout",
     "output_type": "stream",
     "text": [
      "Enter verification code: 4/wwEIdKjNV8-3JGMVL7CMHxAWvyjIdI0hDMTvfP4f_4MrUVW1iQUpJjw\n",
      "\n",
      "Successfully saved authorization token.\n"
     ]
    }
   ],
   "source": [
    "# Trigger the authentication flow.\n",
    "ee.Authenticate()\n",
    "\n",
    "# Initialize the library.\n",
    "ee.Initialize()"
   ]
  },
  {
   "cell_type": "markdown",
   "metadata": {},
   "source": [
    "### PM sensor Classifications\n",
    "Previously, I classified areas where Passive Microwave would expect to work. Given the following constraints:\n",
    "- LST < 0 degrees C\n",
    "- Tree Canopy Cover = 20-30%\n",
    "- SWE = 2-150mm"
   ]
  },
  {
   "cell_type": "code",
   "execution_count": 3,
   "metadata": {},
   "outputs": [],
   "source": [
    "# Import an exported asset \n",
    "img = ee.Image('users/victorialy/classification_month01')"
   ]
  },
  {
   "cell_type": "code",
   "execution_count": 4,
   "metadata": {},
   "outputs": [
    {
     "name": "stdout",
     "output_type": "stream",
     "text": [
      "{'type': 'Image', 'bands': [{'id': 'band_classified', 'data_type': {'type': 'PixelType', 'precision': 'int', 'min': 0, 'max': 255}, 'dimensions': [1551, 290], 'crs': 'EPSG:4326', 'crs_transform': [0.22457882102988036, 0, -168.2095369513804, 0, -0.22457882102988036, 85.11537317032466]}], 'version': 1581708812866376, 'id': 'users/victorialy/classification_month01', 'properties': {'system:footprint': {'type': 'LinearRing', 'coordinates': [[-37.560807821939015, 19.709680030592384], [-18.524243683211537, 19.565324647636942], [8.670847891494898, 19.153561091870507], [33.14643035868383, 19.70967999639198], [52.182994525167125, 19.56532464955654], [73.93906776700103, 19.56532469808809], [92.97563190966589, 19.709680032870622], [112.0121960001795, 19.565324646789644], [139.20728760949774, 19.15356107059357], [166.40237920766884, 19.565324622095375], [-179.7614692725366, 19.87102099849134], [-170.7718422403738, 85.18313433976225], [-168.3337333083568, 19.361844038339775], [-146.34117428739177, 19.709680015963965], [-127.30461008981484, 19.565324662654852], [-105.54853682288508, 19.565324664782732], [-83.79246352829695, 19.56532469879837], [-59.316881062704354, 19.37990437188176], [-37.560807821939015, 19.709680030592384]]}, 'system:asset_size': 59537}}\n"
     ]
    }
   ],
   "source": [
    "print(img.getInfo())"
   ]
  },
  {
   "cell_type": "code",
   "execution_count": 10,
   "metadata": {},
   "outputs": [
    {
     "data": {
      "text/html": [
       "<img src=\"https://earthengine.googleapis.com/v1alpha/projects/earthengine-legacy/thumbnails/b9ae29c031d602fdf11d21d00af36d6c-7d8bcf16fb09355c96c1d898430ad93f:getPixels\"/>"
      ],
      "text/plain": [
       "<IPython.core.display.Image object>"
      ]
     },
     "execution_count": 10,
     "metadata": {},
     "output_type": "execute_result"
    }
   ],
   "source": [
    "# Plot January Snow Presence/Absence, where NDSI > 0.4\n",
    "img2 = ee.Image('users/victorialy/NDSI_gt40_month01')\n",
    "Image(url=img2.getThumbUrl({'bands':['NDSI_gt40'], \n",
    "                           'min': 0, 'max': 1, 'palette': [\"000000\",\"27e1ff\"]}))"
   ]
  },
  {
   "cell_type": "markdown",
   "metadata": {},
   "source": [
    "### Import Classified Image from GEE"
   ]
  },
  {
   "cell_type": "markdown",
   "metadata": {},
   "source": [
    "Previously, I classified areas where Passive Microwave would expect to work. Given the following constraints:\n",
    "- LST < 0 degrees C\n",
    "- Tree Canopy Cover = 20-30%\n",
    "- SWE = 2-150mm"
   ]
  },
  {
   "cell_type": "code",
   "execution_count": 11,
   "metadata": {},
   "outputs": [
    {
     "data": {
      "text/html": [
       "<img src=\"https://earthengine.googleapis.com/v1alpha/projects/earthengine-legacy/thumbnails/e4a60a2aee9e8d1590dbaf7c0ebc46be-1fb06eba8eaaf742d8c59d71196cc620:getPixels\"/>"
      ],
      "text/plain": [
       "<IPython.core.display.Image object>"
      ]
     },
     "execution_count": 11,
     "metadata": {},
     "output_type": "execute_result"
    }
   ],
   "source": [
    "# Import classified image, with all input bands, for the month of January \n",
    "img4 = ee.Image('users/victorialy/test_classification_month01')\n",
    "Image(url=img4.getThumbUrl({'bands':['Sensor_Classification'], \n",
    "                           'min': 0, 'max': 2, 'palette': [\"c15433\",\"1d8e30\",\"dcd72b\"]}))"
   ]
  },
  {
   "cell_type": "code",
   "execution_count": 12,
   "metadata": {},
   "outputs": [
    {
     "data": {
      "text/html": [
       "<img src=\"https://earthengine.googleapis.com/v1alpha/projects/earthengine-legacy/thumbnails/80263b88ac9e23f6b62db0d242e3f16a-3b764264cc6fdec62a7697e4f3314780:getPixels\"/>"
      ],
      "text/plain": [
       "<IPython.core.display.Image object>"
      ]
     },
     "execution_count": 12,
     "metadata": {},
     "output_type": "execute_result"
    }
   ],
   "source": [
    "# Plot tree canopy cover\n",
    "Image(url=img4.getThumbUrl({'bands':['TCC_avg'], \n",
    "                           'min': 0, 'max': 100, 'palette': ['000000', 'afce56', '5f9c00', '0e6a00', '003800']}))"
   ]
  },
  {
   "cell_type": "code",
   "execution_count": 14,
   "metadata": {},
   "outputs": [
    {
     "data": {
      "text/html": [
       "<img src=\"https://earthengine.googleapis.com/v1alpha/projects/earthengine-legacy/thumbnails/94e66ae65c3084ea6972de822b03b7f9-162a2c01af634fe5bdfa7dd49f888905:getPixels\"/>"
      ],
      "text/plain": [
       "<IPython.core.display.Image object>"
      ]
     },
     "execution_count": 14,
     "metadata": {},
     "output_type": "execute_result"
    }
   ],
   "source": [
    "# Plot SWE\n",
    "Image(url=img4.getThumbUrl({'bands':['SWE_avg'], \n",
    "                           \"max\":200,\"palette\":[\"000000\",\"7ce8ed\",\"21edbe\",\"0c35ff\"]}))"
   ]
  },
  {
   "cell_type": "code",
   "execution_count": 18,
   "metadata": {},
   "outputs": [
    {
     "data": {
      "text/html": [
       "<img src=\"https://earthengine.googleapis.com/v1alpha/projects/earthengine-legacy/thumbnails/d24959c2ef2c455f9379428a4f09a4c8-e07a9ae0dcf84f5ef5dc12f34fdc58c4:getPixels\"/>"
      ],
      "text/plain": [
       "<IPython.core.display.Image object>"
      ]
     },
     "execution_count": 18,
     "metadata": {},
     "output_type": "execute_result"
    }
   ],
   "source": [
    "# Plot LST\n",
    "Image(url=img4.getThumbUrl({'bands':['LST_avg'], \n",
    "                           \"min\":-8,\"max\":0,\"palette\":[\"4286f4\",\"000b5e\",\"96048f\"]}))"
   ]
  },
  {
   "cell_type": "code",
   "execution_count": 20,
   "metadata": {},
   "outputs": [
    {
     "name": "stdout",
     "output_type": "stream",
     "text": [
      "{'type': 'Image', 'bands': [{'id': 'LST_avg', 'data_type': {'type': 'PixelType', 'precision': 'double'}, 'dimensions': [1604, 448], 'crs': 'EPSG:4326', 'crs_transform': [0.22457882102988036, 0, -180.11221446596406, 0, -0.22457882102988036, 83.3187426020856]}, {'id': 'TCC_avg', 'data_type': {'type': 'PixelType', 'precision': 'int', 'min': 0, 'max': 255}, 'dimensions': [1604, 448], 'crs': 'EPSG:4326', 'crs_transform': [0.22457882102988036, 0, -180.11221446596406, 0, -0.22457882102988036, 83.3187426020856]}, {'id': 'SWE_avg', 'data_type': {'type': 'PixelType', 'precision': 'float'}, 'dimensions': [1604, 448], 'crs': 'EPSG:4326', 'crs_transform': [0.22457882102988036, 0, -180.11221446596406, 0, -0.22457882102988036, 83.3187426020856]}, {'id': 'Sensor_Classification', 'data_type': {'type': 'PixelType', 'precision': 'int', 'min': 0, 'max': 255}, 'dimensions': [1604, 448], 'crs': 'EPSG:4326', 'crs_transform': [0.22457882102988036, 0, -180.11221446596406, 0, -0.22457882102988036, 83.3187426020856]}, {'id': 'longitude', 'data_type': {'type': 'PixelType', 'precision': 'double'}, 'crs': 'EPSG:4326', 'crs_transform': [1, 0, 0, 0, 1, 0]}, {'id': 'latitude', 'data_type': {'type': 'PixelType', 'precision': 'double'}, 'crs': 'EPSG:4326', 'crs_transform': [1, 0, 0, 0, 1, 0]}], 'version': 1582592158524411, 'id': 'users/victorialy/test_classification_month01', 'properties': {'month': 1, 'system:footprint': {'type': 'LinearRing', 'coordinates': [[-180, -90], [180, -90], [180, 90], [-180, 90], [-180, -90]]}, 'system:asset_size': 1824839}}\n"
     ]
    }
   ],
   "source": [
    "# Add lat long for reference\n",
    "imgll = img4.addBands(ee.Image.pixelLonLat())\n",
    "print(imgll.getInfo())"
   ]
  }
 ],
 "metadata": {
  "kernelspec": {
   "display_name": "Python 3",
   "language": "python",
   "name": "python3"
  },
  "language_info": {
   "codemirror_mode": {
    "name": "ipython",
    "version": 3
   },
   "file_extension": ".py",
   "mimetype": "text/x-python",
   "name": "python",
   "nbconvert_exporter": "python",
   "pygments_lexer": "ipython3",
   "version": "3.6.4"
  }
 },
 "nbformat": 4,
 "nbformat_minor": 2
}
