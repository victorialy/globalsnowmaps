{
 "cells": [
  {
   "cell_type": "markdown",
   "metadata": {},
   "source": [
    "# Snow Sensor Usability Maps\n",
    "Create global maps of where Passive Microwave sensors can be used for detecting snow properties\n",
    "\n",
    "**Victoria Ly** (University of Washington) | vily@uw.edu\n",
    "\n",
    "***\n",
    "#### Data: \n",
    "- [Global Classifications from Google Earth Engine](https://code.earthengine.google.com/12891f3a5cf521b09fff1222d6b0a4ea)"
   ]
  },
  {
   "cell_type": "markdown",
   "metadata": {},
   "source": [
    "***\n",
    "### Set up Google Earth Engine API"
   ]
  },
  {
   "cell_type": "code",
   "execution_count": 27,
   "metadata": {},
   "outputs": [],
   "source": [
    "# Import libraries.\n",
    "import ee\n",
    "\n",
    "from IPython.display import Image\n",
    "import matplotlib.pyplot as plt\n",
    "import rasterio"
   ]
  },
  {
   "cell_type": "code",
   "execution_count": 2,
   "metadata": {},
   "outputs": [
    {
     "data": {
      "text/html": [
       "<p>To authorize access needed by Earth Engine, open the following\n",
       "        URL in a web browser and follow the instructions:</p>\n",
       "        <p><a href=https://accounts.google.com/o/oauth2/auth?client_id=517222506229-vsmmajv00ul0bs7p89v5m89qs8eb9359.apps.googleusercontent.com&scope=https%3A%2F%2Fwww.googleapis.com%2Fauth%2Fearthengine+https%3A%2F%2Fwww.googleapis.com%2Fauth%2Fdevstorage.full_control&redirect_uri=urn%3Aietf%3Awg%3Aoauth%3A2.0%3Aoob&response_type=code>https://accounts.google.com/o/oauth2/auth?client_id=517222506229-vsmmajv00ul0bs7p89v5m89qs8eb9359.apps.googleusercontent.com&scope=https%3A%2F%2Fwww.googleapis.com%2Fauth%2Fearthengine+https%3A%2F%2Fwww.googleapis.com%2Fauth%2Fdevstorage.full_control&redirect_uri=urn%3Aietf%3Awg%3Aoauth%3A2.0%3Aoob&response_type=code</a></p>\n",
       "        <p>The authorization workflow will generate a code, which you\n",
       "        should paste in the box below</p>\n",
       "        "
      ],
      "text/plain": [
       "<IPython.core.display.HTML object>"
      ]
     },
     "metadata": {},
     "output_type": "display_data"
    },
    {
     "name": "stdout",
     "output_type": "stream",
     "text": [
      "Enter verification code: 4/vAFYmLBX9Sk0MHWnBXj9BXU9nwTL0QZqoo5LSKgIjLu-rZOhtY-t-IE\n",
      "\n",
      "Successfully saved authorization token.\n"
     ]
    }
   ],
   "source": [
    "# Trigger the authentication flow.\n",
    "ee.Authenticate()\n",
    "\n",
    "# Initialize the library.\n",
    "ee.Initialize()"
   ]
  },
  {
   "cell_type": "markdown",
   "metadata": {},
   "source": [
    "***\n",
    "### Datasets"
   ]
  },
  {
   "cell_type": "markdown",
   "metadata": {},
   "source": [
    "We're going to use a number of different datasets. So let's pull them in. "
   ]
  },
  {
   "cell_type": "code",
   "execution_count": 4,
   "metadata": {},
   "outputs": [
    {
     "data": {
      "text/html": [
       "<img src=\"https://earthengine.googleapis.com/v1alpha/projects/earthengine-legacy/thumbnails/73bbcc571b95f08bacf765de9c82c433-c9067f806091c60de88655d7f5cdd2c9:getPixels\"/>"
      ],
      "text/plain": [
       "<IPython.core.display.Image object>"
      ]
     },
     "execution_count": 4,
     "metadata": {},
     "output_type": "execute_result"
    }
   ],
   "source": [
    "# Test\n",
    "# Import a DEM from GEE and display a thumbnail of it.\n",
    "dem = ee.Image('USGS/SRTMGL1_003')\n",
    "Image(url=dem.updateMask(dem.gt(0))\n",
    "  .getThumbUrl({'min': 0, 'max': 4000, 'dimensions': 512,\n",
    "                'palette': ['006633', 'E5FFCC', '662A00', 'D8D8D8', 'F5F5F5']}))"
   ]
  },
  {
   "cell_type": "markdown",
   "metadata": {},
   "source": [
    "Previously, I had resampled (mean) and reprojected these datasets to 25km in Google Earth Engine. \n",
    "A spatial resolution of 25km was chosen to best represent the resolution of Passive Microwave products. \n",
    "\n",
    "Here are the links to GEE for each of the datasets: \n",
    "\n",
    "MODIS Terra Surface Reflectance Daily Global (MOD09GA.006) for Cloud Cover: \n",
    "https://code.earthengine.google.com/d0407fbf3df162a0028dee541c4a31b9\n",
    "\n",
    "MODIS Aqua Land Surface Temperature and Emissivity 8-Day Global (MYD11A2.006): https://code.earthengine.google.com/ad820d9fa605f25954141d31f411e663"
   ]
  },
  {
   "cell_type": "markdown",
   "metadata": {},
   "source": [
    "Note to data availability: \n",
    "\n",
    "Hansen et. al: 2000-2018\n",
    "MODIS (MOD09GA): 2000-2019\n",
    "MODIS (MYD11A2.006): 2002-2019\n",
    "GlobSnow: 1979-2016 \n",
    "\n",
    "Date range chosen for overlap: 2002-2018"
   ]
  },
  {
   "cell_type": "markdown",
   "metadata": {},
   "source": [
    "Set working directory"
   ]
  },
  {
   "cell_type": "code",
   "execution_count": 55,
   "metadata": {},
   "outputs": [
    {
     "data": {
      "text/plain": [
       "'C:\\\\Users\\\\vicki\\\\gee-classifications'"
      ]
     },
     "execution_count": 55,
     "metadata": {},
     "output_type": "execute_result"
    }
   ],
   "source": [
    "import os\n",
    "os.getcwd()  # Prints the current working directory"
   ]
  },
  {
   "cell_type": "code",
   "execution_count": 43,
   "metadata": {},
   "outputs": [
    {
     "data": {
      "text/plain": [
       "'C:\\\\Users\\\\vicki\\\\gee-classifications'"
      ]
     },
     "execution_count": 43,
     "metadata": {},
     "output_type": "execute_result"
    }
   ],
   "source": [
    "os.chdir('C:\\\\Users\\\\vicki\\\\gee-classifications')\n",
    "os.getcwd()"
   ]
  },
  {
   "cell_type": "code",
   "execution_count": 59,
   "metadata": {},
   "outputs": [
    {
     "data": {
      "text/plain": [
       "<matplotlib.image.AxesImage at 0x20d2d718d30>"
      ]
     },
     "execution_count": 59,
     "metadata": {},
     "output_type": "execute_result"
    },
    {
     "data": {
      "image/png": "[encoded data removed]",
      "text/plain": [
       "<Figure size 432x288 with 1 Axes>"
      ]
     },
     "metadata": {
      "needs_background": "light"
     },
     "output_type": "display_data"
    }
   ],
   "source": [
    "# Import Tree Canopy Cover (hansen et. al v1.6) \n",
    "\n",
    "src = rasterio.open('tree_25km_mean.tif')\n",
    "plt.imshow(src.read(1), cmap='pink')"
   ]
  },
  {
   "cell_type": "code",
   "execution_count": 60,
   "metadata": {},
   "outputs": [
    {
     "data": {
      "text/plain": [
       "<matplotlib.image.AxesImage at 0x20d2d7723c8>"
      ]
     },
     "execution_count": 60,
     "metadata": {},
     "output_type": "execute_result"
    },
    {
     "data": {
      "image/png": "[encoded data removed]",
      "text/plain": [
       "<Figure size 432x288 with 1 Axes>"
      ]
     },
     "metadata": {
      "needs_background": "light"
     },
     "output_type": "display_data"
    }
   ],
   "source": [
    "# Import MODIS Cloud Cover\n",
    "\n",
    "src2 = rasterio.open('MOD_Clouds_25km_month01.tif')\n",
    "plt.imshow(src2.read(1))"
   ]
  },
  {
   "cell_type": "code",
   "execution_count": null,
   "metadata": {},
   "outputs": [],
   "source": [
    "# Import MODIS Land Surface Temperature (LST)\n"
   ]
  },
  {
   "cell_type": "code",
   "execution_count": null,
   "metadata": {},
   "outputs": [],
   "source": [
    "# Import GlobSnow "
   ]
  },
  {
   "cell_type": "markdown",
   "metadata": {},
   "source": [
    "***\n",
    "### Thresholds"
   ]
  },
  {
   "cell_type": "markdown",
   "metadata": {},
   "source": [
    "Define the thresholds for each parameter. These are all based on previously published literature"
   ]
  },
  {
   "cell_type": "code",
   "execution_count": null,
   "metadata": {},
   "outputs": [],
   "source": [
    "# Define Tree Canopy Cover percentage thresholds\n",
    "var lowerbound_trees = 30\n",
    "var upperbound_trees = 50  \n",
    "\n",
    "# Define Snow Melt thresholds with Land Surface Temperature [Celsius]\n",
    "var upperbound_LST = 0\n",
    "\n",
    "# Define SWE thresholds [mm]\n",
    "var lowerbound_SWE = 10\n",
    "var upperbound_SWE = 300\n",
    "\n",
    "# Define Cloud Cover thresholds\n",
    "# var lowerbound_clouds = 0.4\n",
    "# var upperbound_clouds = 0.7\n",
    "\n",
    "# Define Elevation thresholds\n",
    "# var lowerbound_elevation = 300\n",
    "# var upperbound_elevation = 500\n",
    "\n",
    "# Define Slope thresholds \n",
    "# var lowerbound_slope = 0.2\n",
    "# var upperbound_slope = 0.5\n"
   ]
  },
  {
   "cell_type": "code",
   "execution_count": null,
   "metadata": {},
   "outputs": [],
   "source": []
  }
 ],
 "metadata": {
  "kernelspec": {
   "display_name": "Python 3",
   "language": "python",
   "name": "python3"
  },
  "language_info": {
   "codemirror_mode": {
    "name": "ipython",
    "version": 3
   },
   "file_extension": ".py",
   "mimetype": "text/x-python",
   "name": "python",
   "nbconvert_exporter": "python",
   "pygments_lexer": "ipython3",
   "version": "3.6.4"
  }
 },
 "nbformat": 4,
 "nbformat_minor": 2
}
