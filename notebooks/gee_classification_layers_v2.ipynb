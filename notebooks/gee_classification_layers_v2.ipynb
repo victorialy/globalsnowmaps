{
 "cells": [
  {
   "cell_type": "markdown",
   "metadata": {},
   "source": [
    "# Snow Sensor Usability Masks\n",
    "Export classified image for Passive Microwave Sensor Usability.\n",
    "Testing geemap package to reproject classified image from GEE. \n",
    "\n",
    "**Victoria Ly** (University of Washington) | vily@uw.edu\n",
    "\n",
    "***\n",
    "#### Google Earth Engine: \n",
    "- [Google Earth Engine Classification Masks](https://code.earthengine.google.com/a88eda9f3ae245a403036a59e3e8f4ea)"
   ]
  },
  {
   "cell_type": "markdown",
   "metadata": {},
   "source": [
    "### Set up Google Earth Engine API"
   ]
  },
  {
   "cell_type": "code",
   "execution_count": 1,
   "metadata": {},
   "outputs": [],
   "source": [
    "# Import libraries.\n",
    "import ee\n",
    "\n",
    "from IPython.display import Image\n",
    "import matplotlib.pyplot as plt\n",
    "import rasterio\n",
    "import xarray as xr\n",
    "import numpy as np"
   ]
  },
  {
   "cell_type": "code",
   "execution_count": 2,
   "metadata": {},
   "outputs": [
    {
     "data": {
      "text/html": [
       "<p>To authorize access needed by Earth Engine, open the following\n",
       "        URL in a web browser and follow the instructions:</p>\n",
       "        <p><a href=https://accounts.google.com/o/oauth2/auth?client_id=517222506229-vsmmajv00ul0bs7p89v5m89qs8eb9359.apps.googleusercontent.com&scope=https%3A%2F%2Fwww.googleapis.com%2Fauth%2Fearthengine+https%3A%2F%2Fwww.googleapis.com%2Fauth%2Fdevstorage.full_control&redirect_uri=urn%3Aietf%3Awg%3Aoauth%3A2.0%3Aoob&response_type=code&code_challenge=4RtWwk4Kbjc5MKq_7XA5Xhfr2cBudyYWhh3L4aikc8E&code_challenge_method=S256>https://accounts.google.com/o/oauth2/auth?client_id=517222506229-vsmmajv00ul0bs7p89v5m89qs8eb9359.apps.googleusercontent.com&scope=https%3A%2F%2Fwww.googleapis.com%2Fauth%2Fearthengine+https%3A%2F%2Fwww.googleapis.com%2Fauth%2Fdevstorage.full_control&redirect_uri=urn%3Aietf%3Awg%3Aoauth%3A2.0%3Aoob&response_type=code&code_challenge=4RtWwk4Kbjc5MKq_7XA5Xhfr2cBudyYWhh3L4aikc8E&code_challenge_method=S256</a></p>\n",
       "        <p>The authorization workflow will generate a code, which you\n",
       "        should paste in the box below</p>\n",
       "        "
      ],
      "text/plain": [
       "<IPython.core.display.HTML object>"
      ]
     },
     "metadata": {},
     "output_type": "display_data"
    },
    {
     "name": "stdout",
     "output_type": "stream",
     "text": [
      "Enter verification code: 4/zAG4HFH8oFgUZDQOza52_43n2r3xL5wnOb5VpbATjoivVNyqWjNoPow\n",
      "\n",
      "Successfully saved authorization token.\n"
     ]
    }
   ],
   "source": [
    "# Trigger the authentication flow.\n",
    "ee.Authenticate()\n",
    "\n",
    "# Initialize the library.\n",
    "ee.Initialize()"
   ]
  },
  {
   "cell_type": "markdown",
   "metadata": {},
   "source": [
    "### PM sensor Classifications\n",
    "Previously, I classified areas where Passive Microwave would expect to work. Given the following constraints:\n",
    "- LST < 0 degrees C\n",
    "- Tree Canopy Cover = 20-30%\n",
    "- SWE = 2-150mm"
   ]
  },
  {
   "cell_type": "code",
   "execution_count": 3,
   "metadata": {},
   "outputs": [],
   "source": [
    "# Import an exported asset \n",
    "img = ee.Image('users/victorialy/Example_PM_SSUM_25km_month02')"
   ]
  },
  {
   "cell_type": "code",
   "execution_count": 4,
   "metadata": {},
   "outputs": [
    {
     "name": "stdout",
     "output_type": "stream",
     "text": [
      "{'type': 'Image', 'bands': [{'id': 'LST_avg', 'data_type': {'type': 'PixelType', 'precision': 'double'}, 'dimensions': [1604, 256], 'crs': 'EPSG:4326', 'crs_transform': [0.22457882102988036, 0, -180.11221446596406, 0, -0.22457882102988036, 73.212695655741]}, {'id': 'TCC_avg', 'data_type': {'type': 'PixelType', 'precision': 'int', 'min': 0, 'max': 255}, 'dimensions': [1604, 256], 'crs': 'EPSG:4326', 'crs_transform': [0.22457882102988036, 0, -180.11221446596406, 0, -0.22457882102988036, 73.212695655741]}, {'id': 'SWE_avg', 'data_type': {'type': 'PixelType', 'precision': 'float'}, 'dimensions': [1604, 256], 'crs': 'EPSG:4326', 'crs_transform': [0.22457882102988036, 0, -180.11221446596406, 0, -0.22457882102988036, 73.212695655741]}, {'id': 'NDSI_max', 'data_type': {'type': 'PixelType', 'precision': 'int', 'min': 0, 'max': 255}, 'dimensions': [1604, 256], 'crs': 'EPSG:4326', 'crs_transform': [0.22457882102988036, 0, -180.11221446596406, 0, -0.22457882102988036, 73.212695655741]}, {'id': 'Sensor_Classification', 'data_type': {'type': 'PixelType', 'precision': 'int', 'min': 0, 'max': 255}, 'dimensions': [1604, 256], 'crs': 'EPSG:4326', 'crs_transform': [0.22457882102988036, 0, -180.11221446596406, 0, -0.22457882102988036, 73.212695655741]}], 'version': 1587417126469173, 'id': 'users/victorialy/Example_PM_SSUM_25km_month02', 'properties': {'month': 2, 'system:footprint': {'type': 'LinearRing', 'coordinates': [[-180, -90], [180, -90], [180, 90], [-180, 90], [-180, -90]]}, 'system:asset_size': 1419361}}\n"
     ]
    }
   ],
   "source": [
    "print(img.getInfo())"
   ]
  },
  {
   "cell_type": "markdown",
   "metadata": {},
   "source": [
    "### Import Classified Image from GEE"
   ]
  },
  {
   "cell_type": "markdown",
   "metadata": {},
   "source": [
    "Previously, I classified areas where Passive Microwave would expect to work. Given the following constraints:\n",
    "- LST < 0 degrees C\n",
    "- Tree Canopy Cover = 20-30%\n",
    "- SWE = 10-150mm\n",
    "- NDSI > 0.40, indicates snow presence"
   ]
  },
  {
   "cell_type": "code",
   "execution_count": 6,
   "metadata": {},
   "outputs": [
    {
     "data": {
      "text/html": [
       "<img src=\"https://earthengine.googleapis.com/v1alpha/projects/earthengine-legacy/thumbnails/5f9e87d3dd9dca38d8100939b011be1a-d7684a11b9791e5fdb931b57cfb6b981:getPixels\"/>"
      ],
      "text/plain": [
       "<IPython.core.display.Image object>"
      ]
     },
     "execution_count": 6,
     "metadata": {},
     "output_type": "execute_result"
    }
   ],
   "source": [
    "# Import classified image, with all input bands, for the month of January \n",
    "img = ee.Image('users/victorialy/Example_PM_SSUM_25km_month02')\n",
    "Image(url=img.getThumbUrl({'bands':['Sensor_Classification'], \n",
    "                           'min': 0, 'max': 2, 'palette': [\"c15433\",\"1d8e30\",\"dcd72b\"]}))"
   ]
  },
  {
   "cell_type": "code",
   "execution_count": 7,
   "metadata": {},
   "outputs": [
    {
     "data": {
      "text/html": [
       "<img src=\"https://earthengine.googleapis.com/v1alpha/projects/earthengine-legacy/thumbnails/85f4a3a22479b0180ed27f0ed865edef-2456815c15d5209a50955263cb34e290:getPixels\"/>"
      ],
      "text/plain": [
       "<IPython.core.display.Image object>"
      ]
     },
     "execution_count": 7,
     "metadata": {},
     "output_type": "execute_result"
    }
   ],
   "source": [
    "# Plot tree canopy cover\n",
    "Image(url=img.getThumbUrl({'bands':['TCC_avg'], \n",
    "                           'min': 0, 'max': 100, 'palette': ['000000', 'afce56', '5f9c00', '0e6a00', '003800']}))"
   ]
  },
  {
   "cell_type": "code",
   "execution_count": 8,
   "metadata": {},
   "outputs": [
    {
     "data": {
      "text/html": [
       "<img src=\"https://earthengine.googleapis.com/v1alpha/projects/earthengine-legacy/thumbnails/d3d277175f61a4baf672c8cc5c43de41-4ec8f44af7a3c720a6cfbd2ef25820c1:getPixels\"/>"
      ],
      "text/plain": [
       "<IPython.core.display.Image object>"
      ]
     },
     "execution_count": 8,
     "metadata": {},
     "output_type": "execute_result"
    }
   ],
   "source": [
    "# Plot SWE\n",
    "Image(url=img.getThumbUrl({'bands':['SWE_avg'], \n",
    "                           \"max\":200,\"palette\":[\"000000\",\"7ce8ed\",\"21edbe\",\"0c35ff\"]}))"
   ]
  },
  {
   "cell_type": "code",
   "execution_count": 9,
   "metadata": {},
   "outputs": [
    {
     "data": {
      "text/html": [
       "<img src=\"https://earthengine.googleapis.com/v1alpha/projects/earthengine-legacy/thumbnails/1c1a6f3b2031860caca3ef97ec0759df-e96a72fd9354f6b1f2fe8bb3953c9217:getPixels\"/>"
      ],
      "text/plain": [
       "<IPython.core.display.Image object>"
      ]
     },
     "execution_count": 9,
     "metadata": {},
     "output_type": "execute_result"
    }
   ],
   "source": [
    "# Plot LST\n",
    "Image(url=img.getThumbUrl({'bands':['LST_avg'], \n",
    "                           \"min\":-8,\"max\":0,\"palette\":[\"4286f4\",\"000b5e\",\"96048f\"]}))"
   ]
  },
  {
   "cell_type": "markdown",
   "metadata": {},
   "source": [
    "### Test with geemap"
   ]
  },
  {
   "cell_type": "code",
   "execution_count": null,
   "metadata": {},
   "outputs": [],
   "source": [
    "# Hm, let's try with using the lesson 11 on exporting an image using geemap package \n",
    "# https://github.com/giswqs/geemap\n",
    "# https://gis.stackexchange.com/questions/350771/earth-engine-simplest-way-to-move-from-ee-image-to-array-for-use-in-sklearn"
   ]
  },
  {
   "cell_type": "code",
   "execution_count": 10,
   "metadata": {},
   "outputs": [],
   "source": [
    "# import geemap package\n",
    "import ee\n",
    "import geemap\n",
    "import numpy as np\n",
    "import matplotlib.pyplot as plt"
   ]
  },
  {
   "cell_type": "code",
   "execution_count": 12,
   "metadata": {},
   "outputs": [
    {
     "data": {
      "application/vnd.jupyter.widget-view+json": {
       "model_id": "c9c4a9b589104b6c99df50083093b057",
       "version_major": 2,
       "version_minor": 0
      },
      "text/plain": [
       "Map(center=[40, -100], controls=(ZoomControl(options=['position', 'zoom_in_text', 'zoom_in_title', 'zoom_out_t…"
      ]
     },
     "metadata": {},
     "output_type": "display_data"
    }
   ],
   "source": [
    "Map = geemap.Map()\n",
    "Map"
   ]
  },
  {
   "cell_type": "code",
   "execution_count": 14,
   "metadata": {},
   "outputs": [],
   "source": [
    "img = ee.Image('users/victorialy/Example_PM_SSUM_25km_month02') \\\n",
    "  .select(['TCC_avg'])\n",
    "\n",
    "tree_vis = {\n",
    "    'bands':['TCC_avg'], \n",
    "    'min': 0, 'max': 100, 'palette': ['000000', 'afce56', '5f9c00', '0e6a00', '003800']\n",
    "}\n",
    "Map.addLayer(img, tree_vis, \"tree classification\", True, 0.7)"
   ]
  },
  {
   "cell_type": "code",
   "execution_count": 15,
   "metadata": {},
   "outputs": [],
   "source": [
    "img2 = ee.Image('users/victorialy/Example_PM_SSUM_25km_month02') \\\n",
    "  .select(['Sensor_Classification'])\n",
    "    \n",
    "sensor_vis = {'bands':['Sensor_Classification'], \n",
    "                           'min': 0, 'max': 2, 'palette': [\"c15433\",\"1d8e30\",\"dcd72b\"]}\n",
    "Map.addLayer(img2, sensor_vis, \"sensor classification\", True, 0.7)"
   ]
  },
  {
   "cell_type": "code",
   "execution_count": 16,
   "metadata": {},
   "outputs": [
    {
     "name": "stdout",
     "output_type": "stream",
     "text": [
      "Image.sampleRectangle: Fully masked pixels / pixels outside of the image footprint when sampling band 'Sensor_Classification' with no default value set. Note that calling sampleRectangle() on an image after ee.Image.clip() may result in a sampling bounding box outside the geometry passed to clip().\n",
      "None\n"
     ]
    }
   ],
   "source": [
    "img2 = ee.Image('users/victorialy/Example_PM_SSUM_25km_month02') \\\n",
    "  .select(['Sensor_Classification'])\n",
    "\n",
    "aoi = ee.Geometry.Polygon(\n",
    "        [[[-105.7, 51.4],\n",
    "          [-105.7, 45.4],\n",
    "          [-93.9, 45.4],\n",
    "          [-93.9, 51.4]]], None, False);\n",
    "\n",
    "rgb_img = geemap.ee_to_numpy(img, region=aoi)\n",
    "print(rgb_img)"
   ]
  }
 ],
 "metadata": {
  "kernelspec": {
   "display_name": "Python 3",
   "language": "python",
   "name": "python3"
  },
  "language_info": {
   "codemirror_mode": {
    "name": "ipython",
    "version": 3
   },
   "file_extension": ".py",
   "mimetype": "text/x-python",
   "name": "python",
   "nbconvert_exporter": "python",
   "pygments_lexer": "ipython3",
   "version": "3.6.4"
  }
 },
 "nbformat": 4,
 "nbformat_minor": 2
}
